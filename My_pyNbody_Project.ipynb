{
  "nbformat": 4,
  "nbformat_minor": 0,
  "metadata": {
    "orig_nbformat": 4,
    "language_info": {
      "name": "python",
      "version": "3.8.10",
      "mimetype": "text/x-python",
      "codemirror_mode": {
        "name": "ipython",
        "version": 3
      },
      "pygments_lexer": "ipython3",
      "nbconvert_exporter": "python",
      "file_extension": ".py"
    },
    "kernelspec": {
      "name": "python3",
      "display_name": "Python 3.8.10 64-bit"
    },
    "interpreter": {
      "hash": "916dbcbb3f70747c44a77c7bcd40155683ae19c65e1c03b4aa3499c5328201f1"
    },
    "colab": {
      "name": "My_pyNbody_Project.ipynb",
      "provenance": [],
      "collapsed_sections": [],
      "include_colab_link": true
    }
  },
  "cells": [
    {
      "cell_type": "markdown",
      "metadata": {
        "id": "view-in-github",
        "colab_type": "text"
      },
      "source": [
        "<a href=\"https://colab.research.google.com/github/MikeyBoo/pyNbody-Notebook/blob/main/My_pyNbody_Project.ipynb\" target=\"_parent\"><img src=\"https://colab.research.google.com/assets/colab-badge.svg\" alt=\"Open In Colab\"/></a>"
      ]
    },
    {
      "cell_type": "code",
      "metadata": {
        "id": "WYhNmc8Qgnro"
      },
      "source": [
        ""
      ],
      "execution_count": null,
      "outputs": []
    },
    {
      "cell_type": "code",
      "metadata": {
        "id": "nRIq-ya8e17q"
      },
      "source": [
        "import pynbody"
      ],
      "execution_count": null,
      "outputs": []
    },
    {
      "cell_type": "code",
      "metadata": {
        "id": "lji-B7lVe17r"
      },
      "source": [
        "import pylab"
      ],
      "execution_count": null,
      "outputs": []
    },
    {
      "cell_type": "code",
      "metadata": {
        "id": "RLQ4sXnCe17r"
      },
      "source": [
        "s = pynbody.load('testdata/g15784.lr.01024.gz')"
      ],
      "execution_count": null,
      "outputs": []
    },
    {
      "cell_type": "code",
      "metadata": {
        "id": "maaAhHxGe17s"
      },
      "source": [
        "h = s.halos()"
      ],
      "execution_count": null,
      "outputs": []
    },
    {
      "cell_type": "code",
      "metadata": {
        "id": "d_r-S5Mke17s"
      },
      "source": [
        "h1 = h[1]"
      ],
      "execution_count": null,
      "outputs": []
    },
    {
      "cell_type": "code",
      "metadata": {
        "id": "-oAmaVDGe17s"
      },
      "source": [
        "print('ngas = %e, ndark = %e, nstar = %e\\n'%(len(h1.gas),len(h1.dark),len(h1.star)))"
      ],
      "execution_count": null,
      "outputs": []
    },
    {
      "cell_type": "code",
      "metadata": {
        "id": "9x0I2nvDe17t"
      },
      "source": [
        "pynbody.analysis.halo.center(h1,mode='hyb')"
      ],
      "execution_count": null,
      "outputs": []
    },
    {
      "cell_type": "code",
      "metadata": {
        "id": "kdBeQxpbe17t"
      },
      "source": [
        "print(h[1]['pos'][0])"
      ],
      "execution_count": null,
      "outputs": []
    },
    {
      "cell_type": "code",
      "metadata": {
        "id": "z_EGESNRe17t"
      },
      "source": [
        "print(h[5]['pos'][0])"
      ],
      "execution_count": null,
      "outputs": []
    },
    {
      "cell_type": "code",
      "metadata": {
        "id": "srNn5722e17u"
      },
      "source": [
        "h5 = h[5]"
      ],
      "execution_count": null,
      "outputs": []
    },
    {
      "cell_type": "code",
      "metadata": {
        "id": "dQwkU0eUe17u"
      },
      "source": [
        "my_h5_transform = pynbody.analysis.halo.center(h5, mode='hyb', move_all=False)"
      ],
      "execution_count": null,
      "outputs": []
    },
    {
      "cell_type": "code",
      "metadata": {
        "id": "ZkYPefkIe17v"
      },
      "source": [
        "print(h[1]['pos'][0]) # should be unchanged"
      ],
      "execution_count": null,
      "outputs": []
    },
    {
      "cell_type": "code",
      "metadata": {
        "id": "8JL2SKKhe17v"
      },
      "source": [
        "print(h5['pos'][0]) # should be changed"
      ],
      "execution_count": null,
      "outputs": []
    },
    {
      "cell_type": "code",
      "metadata": {
        "id": "VUeplh4Fe17v"
      },
      "source": [
        "my_h5_transform.revert()"
      ],
      "execution_count": null,
      "outputs": []
    },
    {
      "cell_type": "code",
      "metadata": {
        "id": "zke9cLt1e17w"
      },
      "source": [
        "print(h5['pos'][0]) # back to where it started"
      ],
      "execution_count": null,
      "outputs": []
    },
    {
      "cell_type": "code",
      "metadata": {
        "id": "aCN_38sKe17w"
      },
      "source": [
        "print(h[1]['pos'][0]) # still hasn't changed, of course"
      ],
      "execution_count": null,
      "outputs": []
    },
    {
      "cell_type": "code",
      "metadata": {
        "id": "hrreHRiGe17w"
      },
      "source": [
        "with pynbody.analysis.halo.center(h[5], mode='hyb'): print(h[5]['pos'][0])"
      ],
      "execution_count": null,
      "outputs": []
    },
    {
      "cell_type": "code",
      "metadata": {
        "id": "7aUQxU4Ee17w"
      },
      "source": [
        "print(h[5]['pos'][0])"
      ],
      "execution_count": null,
      "outputs": []
    },
    {
      "cell_type": "code",
      "metadata": {
        "id": "bVE51NeCe17x"
      },
      "source": [
        "s = pynbody.load('testdata/g15784.lr.01024.gz'); h1 = s.halos()[1];"
      ],
      "execution_count": null,
      "outputs": []
    },
    {
      "cell_type": "code",
      "metadata": {
        "id": "dOstS68-e17x"
      },
      "source": [
        "cen_hyb = pynbody.analysis.halo.center(h1,mode='hyb',retcen=True)"
      ],
      "execution_count": null,
      "outputs": []
    },
    {
      "cell_type": "code",
      "metadata": {
        "id": "bdqOr8Bwe17x"
      },
      "source": [
        "cen_pot = pynbody.analysis.halo.center(h1,mode='pot',retcen=True)"
      ],
      "execution_count": null,
      "outputs": []
    },
    {
      "cell_type": "code",
      "metadata": {
        "id": "labQOWfje17x"
      },
      "source": [
        "print(cen_hyb)"
      ],
      "execution_count": null,
      "outputs": []
    },
    {
      "cell_type": "code",
      "metadata": {
        "id": "jbsviSrge17y"
      },
      "source": [
        "print(cen_pot)"
      ],
      "execution_count": null,
      "outputs": []
    },
    {
      "cell_type": "code",
      "metadata": {
        "id": "0DVT4tv6e17y"
      },
      "source": [
        "s['pos'] -= cen_hyb"
      ],
      "execution_count": null,
      "outputs": []
    },
    {
      "cell_type": "code",
      "metadata": {
        "id": "U6mKdpMle17y"
      },
      "source": [
        "s.physical_units()"
      ],
      "execution_count": null,
      "outputs": []
    },
    {
      "cell_type": "code",
      "metadata": {
        "id": "iksUUM_Le17z"
      },
      "source": [
        "pynbody.plot.image(h1.g, width=100, cmap='Blues')"
      ],
      "execution_count": null,
      "outputs": []
    },
    {
      "cell_type": "code",
      "metadata": {
        "id": "qgjMEi9de17z"
      },
      "source": [
        "pynbody.plot.image(s.d[pynbody.filt.Sphere('10 Mpc')], width='10 Mpc', units = 'Msol kpc^-2', cmap='Greys');"
      ],
      "execution_count": null,
      "outputs": []
    },
    {
      "cell_type": "code",
      "metadata": {
        "id": "oQR6-rZMe17z"
      },
      "source": [
        "pynbody.analysis.angmom.sideon(h1, cen=(0,0,0))"
      ],
      "execution_count": null,
      "outputs": []
    },
    {
      "cell_type": "code",
      "metadata": {
        "id": "v-jrrau8e17z"
      },
      "source": [
        "pynbody.plot.image(h1.g, width=100, cmap='Blues');"
      ],
      "execution_count": null,
      "outputs": []
    },
    {
      "cell_type": "code",
      "metadata": {
        "id": "BymbZeOXe170"
      },
      "source": [
        "s.rotate_x(90)"
      ],
      "execution_count": null,
      "outputs": []
    },
    {
      "cell_type": "code",
      "metadata": {
        "id": "ikcC6SL4e170"
      },
      "source": [
        "ps = pynbody.analysis.profile.Profile(h1.s, min = 0.01, max = 50, type = 'log')\n",
        "pylab.clf()\n",
        "pylab.plot(ps['rbins'], ps['density']);\n",
        "pylab.semilogy();\n",
        "pylab.xlabel('$R$ [kpc]');\n",
        "pylab.ylabel('$\\Sigma$ [M$_\\odot$/kpc$^2$]');"
      ],
      "execution_count": null,
      "outputs": []
    },
    {
      "cell_type": "code",
      "metadata": {
        "id": "xiUhATq4e170"
      },
      "source": [
        "pylab.figure()\n",
        "pd = pynbody.analysis.profile.Profile(h1.d,min=.01,max=50, type = 'log')\n",
        "pg = pynbody.analysis.profile.Profile(h1.g,min=.01,max=50, type = 'log')\n",
        "p = pynbody.analysis.profile.Profile(h1,min=.01,max=50, type = 'log')\n",
        "for prof, name in zip([p,pd,ps,pg],['total','dm','stars','gas']) : pylab.plot(prof['rbins'],prof['v_circ'],label=name)\n",
        "pylab.xlabel('$R$ [kpc]');\n",
        "pylab.ylabel('$v_{circ}$ [km/s]');\n",
        "pylab.legend()"
      ],
      "execution_count": null,
      "outputs": []
    },
    {
      "cell_type": "code",
      "metadata": {
        "id": "uGUgyefce170"
      },
      "source": [
        ""
      ],
      "execution_count": null,
      "outputs": []
    }
  ]
}